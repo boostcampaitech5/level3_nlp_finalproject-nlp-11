{
 "cells": [
  {
   "cell_type": "code",
   "execution_count": 3,
   "metadata": {},
   "outputs": [
    {
     "name": "stderr",
     "output_type": "stream",
     "text": [
      "100%|██████████| 100/100 [08:02<00:00,  4.83s/it]"
     ]
    },
    {
     "name": "stdout",
     "output_type": "stream",
     "text": [
      "[20.482256203115984, 20.376408027903253, 20.289939624177464, 21.951656047857593, 20.052870991797167, 21.22198742138365, 20.648956014200614, 22.636949456460833, 23.029682329583057, 21.36998926835427, 20.39047333732774, 21.680130403488718, 20.423965871044388, 19.685573023720906, 21.732527984768407, 20.119146155521673, 20.49751616195985, 20.979546792230725, 19.78174936921783, 20.27058348708487, 21.433158786385338, 20.319872736172297, 21.816830496283863, 18.909594801223243, 20.608299106064266, 21.335623114411696, 21.49433155080214, 20.829303783299753, 18.132319041032734, 21.780443094327765, 20.65972106462188, 20.734097017790862, 20.639610607586437, 21.24074361762726, 21.02633393943194, 20.73903070227032, 21.78860437842064, 21.098902907295667, 20.12985955627926, 21.740137118114024, 21.098902083800134, 20.713568298027756, 21.30775065815894, 20.789638835907216, 17.94340030244113, 21.64415960527727, 21.495015008576328, 21.20950647682261, 20.07736863880844, 20.773533506870876, 20.380012401818934, 20.446339245111414, 20.561050591458933, 21.17794625933772, 20.133937041828375, 19.655693779904308, 21.295610874549624, 20.387493232268543, 21.245392822502424, 21.61722428748451, 20.69220386914326, 21.52378263052209, 22.883264200457123, 20.83895110322652, 20.37874335292471, 22.016110019646366, 19.70595864805066, 21.004225938932205, 21.609673632308052, 20.67555896078568, 19.76817125788251, 21.072715901984196, 20.313796035847453, 21.88940038459297, 20.930508288505873, 21.719146637861193, 20.328229541945444, 20.813309960558442, 21.476666294518253, 20.938373601037515, 20.943285245495634, 20.71458545269583, 21.273241917222293, 20.883382772058397, 20.42428802318453, 21.071694660479707, 20.404147560057492, 20.102509688134344, 22.446725784447477, 19.55298221137077, 21.67929990202191, 20.66374284092668, 20.850396463406078, 20.585065673802877, 20.134615384615383, 20.194205560657927, 20.797401978310095, 21.370088039510414, 22.891284390908837, 21.896942504278645]\n",
      "20.874909456559127\n"
     ]
    },
    {
     "name": "stderr",
     "output_type": "stream",
     "text": [
      "\n"
     ]
    }
   ],
   "source": [
    "import os\n",
    "import json\n",
    "from spacy.lang.en import English\n",
    "from tqdm import tqdm\n",
    "\n",
    "wiki_file_path = \"MY_PATH/DensePhrases/densephrases-data/wikidump/wiki-20181220/\"\n",
    "\n",
    "wiki_file_name_list = os.listdir(wiki_file_path)\n",
    "n_wiki_file = len(wiki_file_name_list)\n",
    "#print(n_wiki_file)\n",
    "#print(wiki_file_name_list)\n",
    "\n",
    "n_check_file = 100\n",
    "wiki_file_name_list = wiki_file_name_list[:100]\n",
    "\n",
    "nlp = English()\n",
    "sbd = nlp.create_pipe('sentencizer')\n",
    "nlp.add_pipe(sbd)\n",
    "\n",
    "n_word_avg_list = []\n",
    "for wiki_file_name in tqdm(wiki_file_name_list):\n",
    "    n_word_list = []\n",
    "    with open(wiki_file_path + wiki_file_name) as json_file:\n",
    "        json_data = json.load(json_file)\n",
    "        n_data = len(json_data['data']) # 1000\n",
    "        for d_idx in range(n_data):\n",
    "            n_paragraphs = len(json_data['data'][d_idx]['paragraphs']) # 1\n",
    "            for p_idx in range(n_paragraphs):\n",
    "                doc = nlp(json_data['data'][d_idx]['paragraphs'][p_idx]['context'])\n",
    "                sentence_list = []\n",
    "                for sentence in doc.sents:\n",
    "                    sentence_list.append(sentence.text)\n",
    "                n_sentence = len(sentence_list)\n",
    "                n_word_list.extend([len(sentence.split()) for sentence in sentence_list])\n",
    "        n_word_avg_list.append(sum(n_word_list)/len(n_word_list))\n",
    "\n",
    "print(n_word_avg_list)\n",
    "print(sum(n_word_avg_list)/n_check_file)"
   ]
  },
  {
   "cell_type": "code",
   "execution_count": 5,
   "metadata": {},
   "outputs": [
    {
     "data": {
      "text/plain": [
       "20.874909456559127"
      ]
     },
     "execution_count": 5,
     "metadata": {},
     "output_type": "execute_result"
    }
   ],
   "source": [
    "sum(n_word_avg_list)/n_check_file"
   ]
  }
 ],
 "metadata": {
  "kernelspec": {
   "display_name": "base",
   "language": "python",
   "name": "python3"
  },
  "language_info": {
   "codemirror_mode": {
    "name": "ipython",
    "version": 3
   },
   "file_extension": ".py",
   "mimetype": "text/x-python",
   "name": "python",
   "nbconvert_exporter": "python",
   "pygments_lexer": "ipython3",
   "version": "3.8.5"
  },
  "orig_nbformat": 4
 },
 "nbformat": 4,
 "nbformat_minor": 2
}
