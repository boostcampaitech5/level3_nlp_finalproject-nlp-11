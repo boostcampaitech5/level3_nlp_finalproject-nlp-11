{
 "cells": [
  {
   "cell_type": "code",
   "execution_count": null,
   "metadata": {},
   "outputs": [],
   "source": [
    "#만들어진 rephrased.txt의 앞에 있는 숫자와 ::: 다 삭제해주기(ex. '23119 ::: When did Kiev become the capital of Ukraine?')\n",
    "import re\n",
    "\n",
    "def remove_pattern(text):\n",
    "    pattern = r'\\d+\\s*:::\\s*'\n",
    "    clean_text = re.sub(pattern, '', text)\n",
    "    return clean_text\n",
    "\n",
    "def process_file(input_file, output_file):\n",
    "    with open(input_file, 'r') as file:\n",
    "        content = file.read()\n",
    "\n",
    "    cleaned_content = remove_pattern(content)\n",
    "\n",
    "    with open(output_file, 'w') as file:\n",
    "        file.write(cleaned_content)\n",
    "\n",
    "# File paths\n",
    "input_file_path = 'rephrased.txt'\n",
    "output_file_path = 'rephrased_clean.txt'\n",
    "\n",
    "# Process the file\n",
    "process_file(input_file_path, output_file_path)\n",
    "\n",
    "print(\"Processing complete. Cleaned content saved to output.txt.\")"
   ]
  },
  {
   "cell_type": "code",
   "execution_count": 18,
   "metadata": {},
   "outputs": [],
   "source": [
    "import pandas as pd\n",
    "from datasets import Dataset, DatasetDict\n",
    "import json\n",
    "with open('all_questions.json','r') as f:\n",
    "    data = json.load(f)\n",
    "original = pd.DataFrame(data, columns=['original']) #delimiter는 파일 보고 결정\n",
    "rephrased = pd.read_csv('rephrased_clean.txt', delimiter = '\\t', names=['rephrased'])\n",
    "t5_dataset = pd.concat([original,rephrased],axis=1)\n",
    "#train,val,test 나누기\n"
   ]
  },
  {
   "cell_type": "code",
   "execution_count": 21,
   "metadata": {},
   "outputs": [
    {
     "data": {
      "text/plain": [
       "original     an over stimulated amygdala could result in wh...\n",
       "rephrased    What kind of behaviors can result from an over...\n",
       "Name: 55555, dtype: object"
      ]
     },
     "execution_count": 21,
     "metadata": {},
     "output_type": "execute_result"
    }
   ],
   "source": [
    "t5_dataset.iloc[55555,:]"
   ]
  },
  {
   "cell_type": "code",
   "execution_count": 22,
   "metadata": {},
   "outputs": [
    {
     "data": {
      "text/html": [
       "<div>\n",
       "<style scoped>\n",
       "    .dataframe tbody tr th:only-of-type {\n",
       "        vertical-align: middle;\n",
       "    }\n",
       "\n",
       "    .dataframe tbody tr th {\n",
       "        vertical-align: top;\n",
       "    }\n",
       "\n",
       "    .dataframe thead th {\n",
       "        text-align: right;\n",
       "    }\n",
       "</style>\n",
       "<table border=\"1\" class=\"dataframe\">\n",
       "  <thead>\n",
       "    <tr style=\"text-align: right;\">\n",
       "      <th></th>\n",
       "      <th>original</th>\n",
       "      <th>rephrased</th>\n",
       "    </tr>\n",
       "  </thead>\n",
       "  <tbody>\n",
       "    <tr>\n",
       "      <th>0</th>\n",
       "      <td>total number of death row inmates in the us</td>\n",
       "      <td>What is the total count of inmates on death ro...</td>\n",
       "    </tr>\n",
       "    <tr>\n",
       "      <th>1</th>\n",
       "      <td>big little lies season 2 how many episodes</td>\n",
       "      <td>How many episodes are there in the second seas...</td>\n",
       "    </tr>\n",
       "    <tr>\n",
       "      <th>2</th>\n",
       "      <td>who sang waiting for a girl like you</td>\n",
       "      <td>Who performed the song 'Waiting for a Girl Lik...</td>\n",
       "    </tr>\n",
       "    <tr>\n",
       "      <th>3</th>\n",
       "      <td>where do you cross the arctic circle in norway</td>\n",
       "      <td>In Norway, where can you cross the Arctic Circle?</td>\n",
       "    </tr>\n",
       "    <tr>\n",
       "      <th>4</th>\n",
       "      <td>who is the main character in green eggs and ham</td>\n",
       "      <td>Who is the protagonist in the book Green Eggs ...</td>\n",
       "    </tr>\n",
       "    <tr>\n",
       "      <th>...</th>\n",
       "      <td>...</td>\n",
       "      <td>...</td>\n",
       "    </tr>\n",
       "    <tr>\n",
       "      <th>79163</th>\n",
       "      <td>what is the name of president of kenya</td>\n",
       "      <td>Who is the current President of Kenya?</td>\n",
       "    </tr>\n",
       "    <tr>\n",
       "      <th>79164</th>\n",
       "      <td>who was the voice of carlton the doorman</td>\n",
       "      <td>Who provided the voice for Carlton the Doorman?</td>\n",
       "    </tr>\n",
       "    <tr>\n",
       "      <th>79165</th>\n",
       "      <td>primary clause of the 14th amendment to extend...</td>\n",
       "      <td>Which clause of the 14th Amendment is the prim...</td>\n",
       "    </tr>\n",
       "    <tr>\n",
       "      <th>79166</th>\n",
       "      <td>when was no child left behind act passed</td>\n",
       "      <td>When was the No Child Left Behind Act passed?</td>\n",
       "    </tr>\n",
       "    <tr>\n",
       "      <th>79167</th>\n",
       "      <td>who plays the army guy in pitch perfect 3</td>\n",
       "      <td>Who plays the army character in Pitch Perfect 3?</td>\n",
       "    </tr>\n",
       "  </tbody>\n",
       "</table>\n",
       "<p>79168 rows × 2 columns</p>\n",
       "</div>"
      ],
      "text/plain": [
       "                                                original  \\\n",
       "0            total number of death row inmates in the us   \n",
       "1             big little lies season 2 how many episodes   \n",
       "2                   who sang waiting for a girl like you   \n",
       "3         where do you cross the arctic circle in norway   \n",
       "4        who is the main character in green eggs and ham   \n",
       "...                                                  ...   \n",
       "79163             what is the name of president of kenya   \n",
       "79164           who was the voice of carlton the doorman   \n",
       "79165  primary clause of the 14th amendment to extend...   \n",
       "79166           when was no child left behind act passed   \n",
       "79167          who plays the army guy in pitch perfect 3   \n",
       "\n",
       "                                               rephrased  \n",
       "0      What is the total count of inmates on death ro...  \n",
       "1      How many episodes are there in the second seas...  \n",
       "2      Who performed the song 'Waiting for a Girl Lik...  \n",
       "3      In Norway, where can you cross the Arctic Circle?  \n",
       "4      Who is the protagonist in the book Green Eggs ...  \n",
       "...                                                  ...  \n",
       "79163             Who is the current President of Kenya?  \n",
       "79164    Who provided the voice for Carlton the Doorman?  \n",
       "79165  Which clause of the 14th Amendment is the prim...  \n",
       "79166      When was the No Child Left Behind Act passed?  \n",
       "79167   Who plays the army character in Pitch Perfect 3?  \n",
       "\n",
       "[79168 rows x 2 columns]"
      ]
     },
     "execution_count": 22,
     "metadata": {},
     "output_type": "execute_result"
    }
   ],
   "source": [
    "t5_dataset"
   ]
  },
  {
   "cell_type": "code",
   "execution_count": 23,
   "metadata": {},
   "outputs": [],
   "source": [
    "#train,val,test 나누기(8:1:1 비율)\n",
    "train = Dataset.from_pandas(t5_dataset.iloc[:63334,:]) #63334개\n",
    "valid = Dataset.from_pandas(t5_dataset.iloc[63334:71251,:]) #7917개\n",
    "test = Dataset.from_pandas(t5_dataset.iloc[71251:,:]) #7917개"
   ]
  },
  {
   "cell_type": "code",
   "execution_count": 24,
   "metadata": {},
   "outputs": [],
   "source": [
    "#datasetDict 만들기\n",
    "data = DatasetDict({\"train\":train,\"valid\":valid,'test':test})"
   ]
  },
  {
   "cell_type": "code",
   "execution_count": 25,
   "metadata": {},
   "outputs": [
    {
     "data": {
      "text/plain": [
       "DatasetDict({\n",
       "    train: Dataset({\n",
       "        features: ['original', 'rephrased'],\n",
       "        num_rows: 63334\n",
       "    })\n",
       "    valid: Dataset({\n",
       "        features: ['original', 'rephrased'],\n",
       "        num_rows: 7917\n",
       "    })\n",
       "    test: Dataset({\n",
       "        features: ['original', 'rephrased'],\n",
       "        num_rows: 7917\n",
       "    })\n",
       "})"
      ]
     },
     "execution_count": 25,
     "metadata": {},
     "output_type": "execute_result"
    }
   ],
   "source": [
    "data"
   ]
  },
  {
   "cell_type": "code",
   "execution_count": 26,
   "metadata": {},
   "outputs": [
    {
     "name": "stderr",
     "output_type": "stream",
     "text": [
      "                                                                                                  \r"
     ]
    }
   ],
   "source": [
    "data.save_to_disk('t5_dataset')"
   ]
  },
  {
   "cell_type": "code",
   "execution_count": 27,
   "metadata": {},
   "outputs": [],
   "source": [
    "#잘 저장되었는지 확인\n",
    "from datasets import load_from_disk\n",
    "dataset = load_from_disk('/opt/ml/level3_nlp_finalproject-nlp-11/T5/t5_dataset')"
   ]
  },
  {
   "cell_type": "code",
   "execution_count": 28,
   "metadata": {},
   "outputs": [
    {
     "data": {
      "text/plain": [
       "DatasetDict({\n",
       "    train: Dataset({\n",
       "        features: ['original', 'rephrased'],\n",
       "        num_rows: 63334\n",
       "    })\n",
       "    valid: Dataset({\n",
       "        features: ['original', 'rephrased'],\n",
       "        num_rows: 7917\n",
       "    })\n",
       "    test: Dataset({\n",
       "        features: ['original', 'rephrased'],\n",
       "        num_rows: 7917\n",
       "    })\n",
       "})"
      ]
     },
     "execution_count": 28,
     "metadata": {},
     "output_type": "execute_result"
    }
   ],
   "source": [
    "dataset"
   ]
  }
 ],
 "metadata": {
  "kernelspec": {
   "display_name": "base",
   "language": "python",
   "name": "python3"
  },
  "language_info": {
   "codemirror_mode": {
    "name": "ipython",
    "version": 3
   },
   "file_extension": ".py",
   "mimetype": "text/x-python",
   "name": "python",
   "nbconvert_exporter": "python",
   "pygments_lexer": "ipython3",
   "version": "3.8.5"
  },
  "orig_nbformat": 4
 },
 "nbformat": 4,
 "nbformat_minor": 2
}
